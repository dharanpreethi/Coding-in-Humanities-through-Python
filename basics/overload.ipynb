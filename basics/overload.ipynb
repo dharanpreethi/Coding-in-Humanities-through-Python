{
 "cells": [
  {
   "cell_type": "markdown",
   "metadata": {},
   "source": [
    "# Overloading\n",
    "\n",
    "* use +  operator for adding numbers and at the same time to concatenate strings. \n",
    "* Defining methods for operators is known as operator overloading. \n",
    "* For e.g. To use +  operator with custom objects  you need to define a method called __add__  .\n",
    "\n",
    "![](../images/overl.png)"
   ]
  },
  {
   "cell_type": "markdown",
   "metadata": {},
   "source": [
    "![](../images/overl1.png)"
   ]
  },
  {
   "cell_type": "code",
   "execution_count": 3,
   "metadata": {},
   "outputs": [
    {
     "name": "stdout",
     "output_type": "stream",
     "text": [
      "4\n",
      "5\n",
      "9\n"
     ]
    }
   ],
   "source": [
    "\n",
    "class Circle:\n",
    "    def __init__(self, radius):\n",
    "        self.__radius = radius\n",
    " \n",
    "    def getRadius(self):\n",
    "        return self.__radius\n",
    " \n",
    "    def __add__(self, another_circle):\n",
    "        return Circle( self.__radius + another_circle.__radius )\n",
    " \n",
    "c1 = Circle(4)\n",
    "print(c1.getRadius())\n",
    " \n",
    "c2 = Circle(5)\n",
    "print(c2.getRadius())\n",
    "c3 = c1 + c2 \n",
    "# This became possible because we have overloaded + operator by adding a    method named __add__\n",
    "print(c3.getRadius())\n"
   ]
  },
  {
   "cell_type": "code",
   "execution_count": null,
   "metadata": {},
   "outputs": [],
   "source": []
  }
 ],
 "metadata": {
  "kernelspec": {
   "display_name": "Python 3",
   "language": "python",
   "name": "python3"
  },
  "language_info": {
   "codemirror_mode": {
    "name": "ipython",
    "version": 3
   },
   "file_extension": ".py",
   "mimetype": "text/x-python",
   "name": "python",
   "nbconvert_exporter": "python",
   "pygments_lexer": "ipython3",
   "version": "3.8.3"
  }
 },
 "nbformat": 4,
 "nbformat_minor": 4
}
