{
 "cells": [
  {
   "attachments": {},
   "cell_type": "markdown",
   "metadata": {},
   "source": [
    "Identifiers\n",
    "========================\n",
    "\n",
    "It is a name used to identity \n",
    "<li>a variable,</li> \n",
    "<li>function, </li>\n",
    "<li>class, </li>\n",
    "<li>module or other objects</li>\n",
    "\n",
    "![](images/identify.jpg)\n",
    "\n",
    "## Rules to name a identifier\n",
    "<li> Start with a letter \n",
    "A to Z or \n",
    "a to z or \n",
    "an underscore(_)</li> \n",
    "<li>Does not allow punctuation characters</li>\n",
    "<li>Case sensitive</li>\n",
    "<li>Dont use reserverd words like True,int,float,print..,</li>\n",
    "\n",
    "## Naming conventions\n",
    "\n",
    "Class names starts with an uppercase.\n",
    "\n",
    "Start with \n",
    "(_) underscore (private)\n",
    "(__) 2 underscore (strongly private)\n",
    "Ends with 2 underscores  (special name)\n",
    "\n"
   ]
  }
 ],
 "metadata": {
  "kernelspec": {
   "display_name": "Python 3",
   "language": "python",
   "name": "python3"
  },
  "language_info": {
   "codemirror_mode": {
    "name": "ipython",
    "version": 3
   },
   "file_extension": ".py",
   "mimetype": "text/x-python",
   "name": "python",
   "nbconvert_exporter": "python",
   "pygments_lexer": "ipython3",
   "version": "3.7.9"
  }
 },
 "nbformat": 4,
 "nbformat_minor": 4
}