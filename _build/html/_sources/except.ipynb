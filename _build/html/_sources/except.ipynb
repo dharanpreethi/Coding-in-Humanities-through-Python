{
 "cells": [
  {
   "cell_type": "markdown",
   "metadata": {},
   "source": [
    "# Exception Handling\n",
    "\n",
    "* We don’t live in the perfect world\n",
    "* Computers can crash, monitors can short, hard drives can corrupt\n",
    "* To fix the problem\n",
    "\n",
    "![](images/excep.png)\n",
    "\n",
    "## Name Error"
   ]
  },
  {
   "cell_type": "code",
   "execution_count": 2,
   "metadata": {},
   "outputs": [
    {
     "name": "stdout",
     "output_type": "stream",
     "text": [
      "spam isnt defected\n"
     ]
    }
   ],
   "source": [
    "try:\n",
    "    print(spam)\n",
    "except:\n",
    "    print(\"spam isnt defected\")\n"
   ]
  },
  {
   "cell_type": "markdown",
   "metadata": {},
   "source": [
    "## Else statement\n",
    "\n",
    "* Python has built in 20 exceptions each problem can be addressed\n",
    "* i.e. unicode decode error, type error, timeout error..,\n",
    "* Else statement like while or for loop\n"
   ]
  },
  {
   "cell_type": "code",
   "execution_count": 3,
   "metadata": {},
   "outputs": [
    {
     "name": "stdout",
     "output_type": "stream",
     "text": [
      "sp:7\n",
      "everthing is fine\n"
     ]
    }
   ],
   "source": [
    "try:\n",
    "    sp=7\n",
    "    print(\"sp:%d\"%(sp))\n",
    "except:\n",
    "    print(\"some error\")\n",
    "else:\n",
    "    print(\"everthing is fine\")\n"
   ]
  },
  {
   "cell_type": "markdown",
   "metadata": {},
   "source": [
    "## Finally statement\n",
    "\n",
    "It executes after try statement fails or ends\n"
   ]
  },
  {
   "cell_type": "code",
   "execution_count": 4,
   "metadata": {},
   "outputs": [
    {
     "name": "stdout",
     "output_type": "stream",
     "text": [
      "soda\n",
      "cleaning\n"
     ]
    }
   ],
   "source": [
    "try:\n",
    "    print(\"soda\")\n",
    "except:\n",
    "    print(\"some error\")\n",
    "finally:\n",
    "    print(\"cleaning\")"
   ]
  },
  {
   "attachments": {},
   "cell_type": "markdown",
   "metadata": {},
   "source": [
    "## Some exceptions\n",
    "\n",
    "* Name error: a==6 anot defined\n",
    "* Syntax error: if a==6 print\n",
    "* Type error: str not int\n",
    "* Index error: list index out of range\n",
    "* Value error: ’maybe ‘ is not in list\n",
    "* Key error\n",
    "* Overflowerror: int greater than maxmium\n",
    "* Zerodivisionerror: 2/0\n"
   ]
  },
  {
   "cell_type": "code",
   "execution_count": null,
   "metadata": {},
   "outputs": [],
   "source": []
  }
 ],
 "metadata": {
  "kernelspec": {
   "display_name": "Python 3",
   "language": "python",
   "name": "python3"
  },
  "language_info": {
   "codemirror_mode": {
    "name": "ipython",
    "version": 3
   },
   "file_extension": ".py",
   "mimetype": "text/x-python",
   "name": "python",
   "nbconvert_exporter": "python",
   "pygments_lexer": "ipython3",
   "version": "3.8.3"
  }
 },
 "nbformat": 4,
 "nbformat_minor": 4
}
