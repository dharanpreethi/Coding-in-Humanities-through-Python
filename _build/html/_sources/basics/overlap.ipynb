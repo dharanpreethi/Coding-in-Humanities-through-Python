{
 "cells": [
  {
   "attachments": {},
   "cell_type": "markdown",
   "metadata": {},
   "source": [
    "# Overlapping\n",
    "\n",
    "![](../images/over.png)\n",
    "Overlapping[function has same name]"
   ]
  },
  {
   "cell_type": "code",
   "execution_count": 3,
   "metadata": {},
   "outputs": [
    {
     "name": "stdout",
     "output_type": "stream",
     "text": [
      "person\n",
      "employee\n"
     ]
    }
   ],
   "source": [
    "class Person:\n",
    "\n",
    "    def name(self):\n",
    "        print(\"person\")\n",
    "\n",
    "class Employee(Person):\n",
    "\n",
    "    def name(self):\n",
    "        super().name()\n",
    "\n",
    "        print(\"employee\")\n",
    "\n",
    "y = Employee()\n",
    "y.name()\n",
    "\n"
   ]
  },
  {
   "cell_type": "code",
   "execution_count": null,
   "metadata": {},
   "outputs": [],
   "source": []
  }
 ],
 "metadata": {
  "kernelspec": {
   "display_name": "Python 3",
   "language": "python",
   "name": "python3"
  },
  "language_info": {
   "codemirror_mode": {
    "name": "ipython",
    "version": 3
   },
   "file_extension": ".py",
   "mimetype": "text/x-python",
   "name": "python",
   "nbconvert_exporter": "python",
   "pygments_lexer": "ipython3",
   "version": "3.8.3"
  }
 },
 "nbformat": 4,
 "nbformat_minor": 4
}
