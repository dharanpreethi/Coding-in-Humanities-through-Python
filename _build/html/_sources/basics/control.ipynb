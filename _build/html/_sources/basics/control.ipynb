{
 "cells": [
  {
   "cell_type": "markdown",
   "metadata": {},
   "source": [
    "# Control Statements\n",
    "\n",
    "Control statements enable us to specify the flow of program control; ie, the order in which the instructions in a program must be executed.\n",
    "\n",
    "![](../images/cntrl.jpg)"
   ]
  },
  {
   "cell_type": "markdown",
   "metadata": {},
   "source": [
    "## Control flow constructs\n",
    "1. if statements\n",
    "2. while loop\n",
    "3. for in loop\n",
    "4. break statement\n",
    "5. pass statement\n",
    "6. continue statement\n",
    "\n",
    "### if statement\n",
    "\n",
    "![](../images/ifp.png)\n",
    "\n",
    "### Example\n",
    "\n",
    "Finding greatest of 2 numbers"
   ]
  },
  {
   "cell_type": "code",
   "execution_count": 26,
   "metadata": {},
   "outputs": [
    {
     "name": "stdout",
     "output_type": "stream",
     "text": [
      "Enter the number1: 12\n",
      "Enter the number2: 16\n",
      "number2 is greater than number1\n"
     ]
    }
   ],
   "source": [
    "a=int(input(\"Enter the number1: \"))\n",
    "b=int(input(\"Enter the number2: \"))\n",
    "\n",
    "if(a>b):\n",
    "    print(\"number1 is greater than number2\")\n",
    "else:\n",
    "    print(\"number2 is greater than number1\")"
   ]
  },
  {
   "cell_type": "markdown",
   "metadata": {},
   "source": [
    "## if... elif..else\n",
    "### Example\n",
    "finding greatest number of 3 numbers"
   ]
  },
  {
   "cell_type": "code",
   "execution_count": 8,
   "metadata": {},
   "outputs": [
    {
     "name": "stdout",
     "output_type": "stream",
     "text": [
      "Enter the number1: 16\n",
      "Enter the number2: 11\n",
      "Enter the number3: 25\n",
      "number3 is greater\n"
     ]
    }
   ],
   "source": [
    "a=int(input(\"Enter the number1: \"))\n",
    "b=int(input(\"Enter the number2: \"))\n",
    "c=int(input(\"Enter the number3: \"))\n",
    "\n",
    "if(a>b and a>c):\n",
    "    print(\"number1 is greater\")\n",
    "elif(b>a and b>c):\n",
    "    print(\"number2 is greater\")\n",
    "else:\n",
    "    print(\"number3 is greater\")"
   ]
  },
  {
   "cell_type": "markdown",
   "metadata": {},
   "source": [
    "## While loop\n",
    "* while loop Repeats a statement or group of statements while a given condition is true. \n",
    "* It tests the condition before executing the loop body.\n",
    "\n",
    "### Example\n"
   ]
  },
  {
   "cell_type": "code",
   "execution_count": 11,
   "metadata": {},
   "outputs": [
    {
     "name": "stdout",
     "output_type": "stream",
     "text": [
      "0\n",
      "1\n",
      "2\n",
      "3\n",
      "4\n",
      "5\n",
      "6\n",
      "7\n",
      "8\n",
      "9\n"
     ]
    }
   ],
   "source": [
    "a=0\n",
    "while(a<10):\n",
    "    print(a)\n",
    "    a+=1\n"
   ]
  },
  {
   "cell_type": "markdown",
   "metadata": {},
   "source": [
    "## For loop\n",
    "for loop Executes a sequence of statements multiple times and abbreviates the code that manages the loop variable.\n",
    "\n",
    "### Example"
   ]
  },
  {
   "cell_type": "code",
   "execution_count": 14,
   "metadata": {},
   "outputs": [
    {
     "name": "stdout",
     "output_type": "stream",
     "text": [
      "5\n",
      "6\n",
      "7\n",
      "8\n",
      "9\n"
     ]
    }
   ],
   "source": [
    "for a in range(5 ,10):\n",
    "    print(a)\n"
   ]
  },
  {
   "cell_type": "markdown",
   "metadata": {},
   "source": [
    "## Pass Statement\n",
    "* Pass is a Placeholder for python\n",
    "\n",
    "* If you write a code for looping but u want to implement in future.\n",
    "\n",
    "* Empty body of loop will give an error\n",
    "\n",
    "* So we can write pass inside it means ”does nothing”\n",
    "\n",
    "\n",
    "### Example"
   ]
  },
  {
   "cell_type": "code",
   "execution_count": 17,
   "metadata": {},
   "outputs": [],
   "source": [
    "s={2,3,4,55,66}\n",
    "for v in s:\n",
    "    pass\n"
   ]
  },
  {
   "cell_type": "markdown",
   "metadata": {},
   "source": [
    "## Continue statement\n",
    "\n",
    "* The continue statement in C programming works somewhat like the break statement. \n",
    "\n",
    "* Instead of forcing termination, it forces the next iteration of the loop to take place, skipping any code in between.\n",
    "\n",
    "### Example\n"
   ]
  },
  {
   "cell_type": "code",
   "execution_count": 22,
   "metadata": {},
   "outputs": [
    {
     "name": "stdout",
     "output_type": "stream",
     "text": [
      "1\n",
      "2\n",
      "3\n",
      "5\n",
      "6\n"
     ]
    }
   ],
   "source": [
    "l=[1,2,3,4,5,6]\n",
    "for i in range(len(l)):\n",
    "    if(l[i]==4):\n",
    "        continue\n",
    "    print(l[i])\n"
   ]
  },
  {
   "cell_type": "markdown",
   "metadata": {},
   "source": [
    "## Break Statement\n",
    "* The break is a keyword in C which is used to bring the program control out of the loop.\n",
    "* The break statement is used inside loops.\n",
    "* The break statement breaks the loop one by one, i.e., in the case of nested loops, it breaks the inner loop first and then proceeds to outer loops.\n",
    "\n",
    "### Example"
   ]
  },
  {
   "cell_type": "code",
   "execution_count": 24,
   "metadata": {},
   "outputs": [
    {
     "name": "stdout",
     "output_type": "stream",
     "text": [
      "1\n",
      "2\n",
      "3\n"
     ]
    }
   ],
   "source": [
    "l=[1,2,3,4,5,6]\n",
    "for i in range(len(l)):\n",
    "\tif(l[i]==4):\n",
    "\t\tbreak\n",
    "\tprint(l[i])"
   ]
  },
  {
   "cell_type": "code",
   "execution_count": null,
   "metadata": {},
   "outputs": [],
   "source": []
  }
 ],
 "metadata": {
  "kernelspec": {
   "display_name": "Python 3",
   "language": "python",
   "name": "python3"
  },
  "language_info": {
   "codemirror_mode": {
    "name": "ipython",
    "version": 3
   },
   "file_extension": ".py",
   "mimetype": "text/x-python",
   "name": "python",
   "nbconvert_exporter": "python",
   "pygments_lexer": "ipython3",
   "version": "3.8.3"
  }
 },
 "nbformat": 4,
 "nbformat_minor": 4
}
