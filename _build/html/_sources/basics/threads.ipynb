{
 "cells": [
  {
   "attachments": {},
   "cell_type": "markdown",
   "metadata": {},
   "source": [
    "# Threads\n",
    "\n",
    "Using threads allows a program to run multiple operations concurrently in the same process space.\n",
    "\n",
    "![](../images/thread.png)\n",
    "\n",
    "\n",
    "### Example"
   ]
  },
  {
   "cell_type": "code",
   "execution_count": 3,
   "metadata": {},
   "outputs": [
    {
     "name": "stdout",
     "output_type": "stream",
     "text": [
      "Worker: 0\n",
      "Worker: 1\n",
      "Worker: 2\n",
      "Worker: 3\n",
      "Worker: 4\n"
     ]
    }
   ],
   "source": [
    "import threading\n",
    "def worker(num):\n",
    "    \"\"\"thread worker function\"\"\"\n",
    "    print('Worker: %s' % num)\n",
    "threads = []\n",
    "for i in range(5):\n",
    "    t = threading.Thread(target=worker, args=(i,))\n",
    "    threads.append(t)\n",
    "    t.start()\n"
   ]
  },
  {
   "cell_type": "markdown",
   "metadata": {},
   "source": [
    "## Synchronizing Threads\n",
    "\n",
    "* Synchronizing threads is through using a Condition object.\n",
    "* Because the Condition uses a Lock,\n",
    "* It can be tied to a shared resource, \n",
    "* Allowing multiple threads to wait for the resource to be updated. \n",
    "\n",
    "![](../images/sync.png)\n",
    "\n",
    "## The methods provided by the Thread class\n",
    "\n",
    "* run() − The run() method is the entry point for a thread.\n",
    "* start() − The start() method starts a thread by calling the run method.\n",
    "* join([time]) − The join() waits for threads to terminate.\n",
    "* isAlive() − The isAlive() method checks whether a thread is still executing.\n",
    "* getName() − The getName() method returns the name of a thread.\n",
    "* setName() − The setName() method sets the name of a thread.\n",
    "\n",
    "Synchronizing threads is through using a Condition object. \n",
    "Because the Condition uses a Lock, it can be tied to a shared resource, allowing multiple threads to wait for the resource to be updated. \n",
    "In this example, the consumer() threads wait for the Condition to be set before continuing. \n",
    "The producer() thread is responsible for setting the condition and \n",
    "notifying the other threads that they can continue.\n"
   ]
  },
  {
   "cell_type": "code",
   "execution_count": 6,
   "metadata": {},
   "outputs": [
    {
     "name": "stderr",
     "output_type": "stream",
     "text": [
      "2021-01-13 00:55:15,806 (c1) Starting consumer thread\n",
      "2021-01-13 00:55:16,010 (c2) Starting consumer thread\n",
      "2021-01-13 00:55:16,216 (p ) Starting producer thread\n",
      "2021-01-13 00:55:16,221 (p ) Making resource available\n",
      "2021-01-13 00:55:16,223 (c1) Resource is available to consumer\n",
      "2021-01-13 00:55:16,223 (c2) Resource is available to consumer\n"
     ]
    }
   ],
   "source": [
    "import logging\n",
    "import threading\n",
    "import time\n",
    "\n",
    "def consumer(cond):\n",
    "    \"\"\"wait for the condition and use the resource\"\"\"\n",
    "    logging.debug('Starting consumer thread')\n",
    "    with cond:\n",
    "        cond.wait()\n",
    "        logging.debug('Resource is available to consumer')\n",
    "\n",
    "def producer(cond):\n",
    "    \"\"\"set up the resource to be used by the consumer\"\"\"\n",
    "    logging.debug('Starting producer thread')\n",
    "    with cond:\n",
    "        logging.debug('Making resource available')\n",
    "        cond.notifyAll()\n",
    "\n",
    "logging.basicConfig(\n",
    "    level=logging.DEBUG,\n",
    "    format='%(asctime)s (%(threadName)-2s) %(message)s',)\n",
    "\n",
    "condition = threading.Condition()\n",
    "c1 = threading.Thread(name='c1', target=consumer,args=(condition,))\n",
    "c2 = threading.Thread(name='c2', target=consumer,args=(condition,))\n",
    "p = threading.Thread(name='p', target=producer,args=(condition,))\n",
    "\n",
    "c1.start()\n",
    "time.sleep(0.2)\n",
    "c2.start()\n",
    "time.sleep(0.2)\n",
    "p.start()\n",
    "\n"
   ]
  },
  {
   "cell_type": "code",
   "execution_count": null,
   "metadata": {},
   "outputs": [],
   "source": []
  }
 ],
 "metadata": {
  "kernelspec": {
   "display_name": "Python 3",
   "language": "python",
   "name": "python3"
  },
  "language_info": {
   "codemirror_mode": {
    "name": "ipython",
    "version": 3
   },
   "file_extension": ".py",
   "mimetype": "text/x-python",
   "name": "python",
   "nbconvert_exporter": "python",
   "pygments_lexer": "ipython3",
   "version": "3.8.3"
  }
 },
 "nbformat": 4,
 "nbformat_minor": 4
}
