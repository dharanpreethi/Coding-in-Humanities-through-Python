{
 "cells": [
  {
   "cell_type": "markdown",
   "metadata": {},
   "source": [
    "# File\n",
    "\n",
    "* A file is some information or data which stays in the computer storage devices.\n",
    "* Python gives you easy ways to manipulate these files.\n",
    "* Generally we divide files in two categories, text file and binary file.\n",
    "* Text files are simple text where as the binary files contain binary data which is only readable by computer.\n",
    "\n",
    "## Opening the file "
   ]
  },
  {
   "cell_type": "code",
   "execution_count": 14,
   "metadata": {},
   "outputs": [],
   "source": [
    "ifile=open(\"test.txt\")\n"
   ]
  },
  {
   "cell_type": "markdown",
   "metadata": {},
   "source": [
    "## Reading the file"
   ]
  },
  {
   "cell_type": "code",
   "execution_count": 15,
   "metadata": {},
   "outputs": [
    {
     "name": "stdout",
     "output_type": "stream",
     "text": [
      "Introduction\n",
      "============================\n",
      "\n",
      "As primary sources of information are more frequently digitized and available online than ever before, how can we use those sources to ask new questions? How did Chinese families organize themselves and their landscapes in China's past? How did African slaves from different cultures form communities in the Americas? What influences informed the creation and evolution of Broadway musicals? How can I understand or interpret 1,000 books all at once? How can I create a visualization that my students can interact with? The answers to these questions can be explored using a wide variety of digital tools, methods, and sources.\n"
     ]
    }
   ],
   "source": [
    "print(ifile.read())\n"
   ]
  },
  {
   "cell_type": "markdown",
   "metadata": {},
   "source": [
    "## Closing the file"
   ]
  },
  {
   "cell_type": "code",
   "execution_count": 16,
   "metadata": {},
   "outputs": [],
   "source": [
    "ifile.close()"
   ]
  },
  {
   "cell_type": "markdown",
   "metadata": {},
   "source": [
    "## Appending the file"
   ]
  },
  {
   "cell_type": "code",
   "execution_count": 19,
   "metadata": {},
   "outputs": [
    {
     "name": "stdout",
     "output_type": "stream",
     "text": [
      "673\n"
     ]
    }
   ],
   "source": [
    "ifile=open(\"test.txt\",'a') # a means append\n",
    "c=ifile.tell() # tells the position of pointer in file\n",
    "print(c)\n",
    "a=\"...Extra data...\"\n",
    "ifile.write(a)\n",
    "ifile.close()\n"
   ]
  },
  {
   "cell_type": "code",
   "execution_count": 21,
   "metadata": {},
   "outputs": [
    {
     "name": "stdout",
     "output_type": "stream",
     "text": [
      "Introduction\n",
      "============================\n",
      "\n",
      "As primary sources of information are more frequently digitized and available online than ever before, how can we use those sources to ask new questions? How did Chinese families organize themselves and their landscapes in China's past? How did African slaves from different cultures form communities in the Americas? What influences informed the creation and evolution of Broadway musicals? How can I understand or interpret 1,000 books all at once? How can I create a visualization that my students can interact with? The answers to these questions can be explored using a wide variety of digital tools, methods, and sources....Extra data......Extra data...\n"
     ]
    }
   ],
   "source": [
    "ifile=open(\"test.txt\")\n",
    "print(ifile.read())\n",
    "ifile.close()"
   ]
  },
  {
   "cell_type": "markdown",
   "metadata": {},
   "source": [
    "## readline\n",
    "\n",
    "### Example\n"
   ]
  },
  {
   "cell_type": "code",
   "execution_count": 24,
   "metadata": {},
   "outputs": [
    {
     "name": "stdout",
     "output_type": "stream",
     "text": [
      "Introduction\n",
      "\n"
     ]
    }
   ],
   "source": [
    "f=open('test.txt')\n",
    "s=f.readline() #read line by line\n",
    "print(s)"
   ]
  },
  {
   "cell_type": "markdown",
   "metadata": {},
   "source": [
    "## Seek\n",
    "\n",
    "seek a particular text in the file\n",
    "\n",
    "### syntax\n",
    "\n",
    "f.seek(offset, from)\n",
    "\n",
    "Here, the from parameter takes the following values:\n",
    "\n",
    "    0 : offset calculated from the beginning\n",
    "\n",
    "    1 : offset calculated from the current position\n",
    "    \n",
    "    2 : offset calculated from the end\n",
    "\n",
    "Assuming that myfile.txt contains \"Hello World\" text, the following example demonstrates the seek() method.\n",
    "\n",
    "\n",
    "\n",
    "### Example"
   ]
  },
  {
   "cell_type": "code",
   "execution_count": 28,
   "metadata": {},
   "outputs": [
    {
     "name": "stdout",
     "output_type": "stream",
     "text": [
      "As primary sources of information are more frequently digitized and available online than ever before, how can we use those sources to ask new questions? How did Chinese families organize themselves and their landscapes in China's past? How did African slaves from different cultures form communities in the Americas? What influences informed the creation and evolution of Broadway musicals? How can I understand or interpret 1,000 books all at once? How can I create a visualization that my students can interact with? The answers to these questions can be explored using a wide variety of digital tools, methods, and sources....Extra data......Extra data...\n"
     ]
    }
   ],
   "source": [
    "f=open(\"test.txt\",\"r+\")\n",
    "f.seek(46,0) #seek from 46 th letter\n",
    "lines=f.readlines()\n",
    "for line in lines:\n",
    "    print(line)\n",
    "f.close()\n"
   ]
  },
  {
   "cell_type": "markdown",
   "metadata": {},
   "source": [
    "## To know the file closed or not"
   ]
  },
  {
   "cell_type": "code",
   "execution_count": 31,
   "metadata": {},
   "outputs": [
    {
     "data": {
      "text/plain": [
       "False"
      ]
     },
     "execution_count": 31,
     "metadata": {},
     "output_type": "execute_result"
    }
   ],
   "source": [
    "f = open ('test.txt')\n",
    "f.closed\n"
   ]
  },
  {
   "cell_type": "markdown",
   "metadata": {},
   "source": [
    "## To know file readable or not\n",
    "We expect the file to be readable. It was opened without error."
   ]
  },
  {
   "cell_type": "code",
   "execution_count": 36,
   "metadata": {},
   "outputs": [
    {
     "data": {
      "text/plain": [
       "True"
      ]
     },
     "execution_count": 36,
     "metadata": {},
     "output_type": "execute_result"
    }
   ],
   "source": [
    "f.readable()"
   ]
  },
  {
   "attachments": {},
   "cell_type": "markdown",
   "metadata": {},
   "source": [
    "## To know file Seekable or not\n",
    "We can cause the file to seek to any desired position within the file\n"
   ]
  },
  {
   "cell_type": "code",
   "execution_count": 37,
   "metadata": {},
   "outputs": [
    {
     "data": {
      "text/plain": [
       "True"
      ]
     },
     "execution_count": 37,
     "metadata": {},
     "output_type": "execute_result"
    }
   ],
   "source": [
    "f.seekable()"
   ]
  },
  {
   "cell_type": "markdown",
   "metadata": {},
   "source": [
    "## tell()\n",
    "Internal pointer is at beginning of file. This is expected after opening file."
   ]
  },
  {
   "cell_type": "code",
   "execution_count": 38,
   "metadata": {},
   "outputs": [
    {
     "data": {
      "text/plain": [
       "0"
      ]
     },
     "execution_count": 38,
     "metadata": {},
     "output_type": "execute_result"
    }
   ],
   "source": [
    "f.tell()"
   ]
  },
  {
   "cell_type": "markdown",
   "metadata": {},
   "source": [
    "## To know file writable or not\n",
    "Not writable, opened for reading only. An attempt to write or truncate raises OSError.\n"
   ]
  },
  {
   "cell_type": "code",
   "execution_count": null,
   "metadata": {},
   "outputs": [],
   "source": [
    "f.writable()\n"
   ]
  }
 ],
 "metadata": {
  "kernelspec": {
   "display_name": "Python 3",
   "language": "python",
   "name": "python3"
  },
  "language_info": {
   "codemirror_mode": {
    "name": "ipython",
    "version": 3
   },
   "file_extension": ".py",
   "mimetype": "text/x-python",
   "name": "python",
   "nbconvert_exporter": "python",
   "pygments_lexer": "ipython3",
   "version": "3.8.3"
  }
 },
 "nbformat": 4,
 "nbformat_minor": 4
}
