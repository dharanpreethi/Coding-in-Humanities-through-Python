{
 "cells": [
  {
   "cell_type": "markdown",
   "metadata": {},
   "source": [
    "# Python Introduction\n",
    "* Created by Guido van Rossum and first released in 1991\n",
    "![](../images/guido.jpg)\n",
    "* High-level programming language for general-purpose.\n",
    "* An interpreted language\n",
    "* Readability\n",
    "* Express concepts in fewer lines of code than C++ or Java.\n",
    "* Used by both small and large scales\n"
   ]
  },
  {
   "cell_type": "markdown",
   "metadata": {},
   "source": [
    "## Derived from following languages\n",
    "1. ABC\t\t\n",
    "2. Modulo 3\n",
    "3. C,C++\n",
    "4. Algol-68\n",
    "5. Small talk\n",
    "6. Unix shell &\n",
    "7. Other scripting languages\n",
    "\n"
   ]
  },
  {
   "cell_type": "markdown",
   "metadata": {},
   "source": [
    "## Features\n",
    "\n",
    "![](../images/feature.png)\n",
    "\n",
    "* Dynamic type system \n",
    "* Automatic memory management.\n",
    "* It supports multiple programming paradigms\n",
    "* Including object-oriented\n",
    "* Functional\n",
    "* Has a large and comprehensive standard library\n"
   ]
  },
  {
   "cell_type": "code",
   "execution_count": null,
   "metadata": {},
   "outputs": [],
   "source": []
  }
 ],
 "metadata": {
  "kernelspec": {
   "display_name": "Python 3",
   "language": "python",
   "name": "python3"
  },
  "language_info": {
   "codemirror_mode": {
    "name": "ipython",
    "version": 3
   },
   "file_extension": ".py",
   "mimetype": "text/x-python",
   "name": "python",
   "nbconvert_exporter": "python",
   "pygments_lexer": "ipython3",
   "version": "3.8.3"
  }
 },
 "nbformat": 4,
 "nbformat_minor": 4
}
