{
 "cells": [
  {
   "cell_type": "markdown",
   "metadata": {},
   "source": [
    "# Regular Expression\n",
    "\n",
    "* The expressions is a string of characters. \n",
    "* There is 2 types of characters meta characters which have a special meaning & regular characters which have literal meaning.\n",
    "* Can be simple & easy to learn, however takes a long time to master & use advanced expressions\n",
    "\n",
    "![](images/reg.png)\n",
    "\n",
    "## How it Works?\n",
    "\n",
    "* This is a few different algorithms that regular expressions can use.\n",
    "* The most common being a DFA or deterministic finite automation\n",
    "* The dfa algorithm is modified to use a pattern to specify its computation rules\n",
    "* The dfa algorithm takes o(2m) to construct the regular expressions( where m is the length of the regex pattern) the O(n) time to search of length n\n",
    "\n",
    "## Meta Characters\n",
    "\n",
    "![](images/meta.png)\n",
    "\n",
    "## Matching & searching\n",
    "\n",
    "Python gives us 2 base methods to use our regular expressions with\n",
    "* Match() ==> checks to see if the expression matches the entire string\n",
    "* Search() ==> checks to see if there is a match anywhere string\n",
    "\n",
    "### A basic test of match & search\n",
    "* When constructing an expression we use a raw string to avoid problems with python\n",
    "* This is just an r before the string: r’pattern\n",
    "\n"
   ]
  },
  {
   "cell_type": "code",
   "execution_count": 1,
   "metadata": {},
   "outputs": [
    {
     "name": "stdout",
     "output_type": "stream",
     "text": [
      "no match was found\n",
      "search found : think\n"
     ]
    }
   ],
   "source": [
    "import re\n",
    "\n",
    "line=\"i think i understand regular expressions\"\n",
    "matchresult=re.match('think',line,re.M|re.I)\n",
    "if matchresult:\n",
    "    print(\"match found : \"+matchresult.group())\n",
    "else:\n",
    "    print(\"no match was found\")\n",
    "searchresult=re.search('think',line,re.M|re.I)\n",
    "if searchresult:\n",
    "    print(\"search found : \"+searchresult.group())\n",
    "else:\n",
    "    print(\"no search was found\")\n"
   ]
  },
  {
   "cell_type": "markdown",
   "metadata": {},
   "source": [
    "## Parse in the file\n",
    "\n",
    "The following program should run in the command prompt\n",
    "\n",
    "we should give 2 arguments while running \n",
    "* first one is searching word and \n",
    "* second one is in which file we need to search"
   ]
  },
  {
   "cell_type": "code",
   "execution_count": 2,
   "metadata": {},
   "outputs": [
    {
     "name": "stderr",
     "output_type": "stream",
     "text": [
      "usage: ipykernel_launcher.py [-h] word fname\n",
      "ipykernel_launcher.py: error: the following arguments are required: fname\n"
     ]
    },
    {
     "ename": "SystemExit",
     "evalue": "2",
     "output_type": "error",
     "traceback": [
      "An exception has occurred, use %tb to see the full traceback.\n",
      "\u001b[1;31mSystemExit\u001b[0m\u001b[1;31m:\u001b[0m 2\n"
     ]
    },
    {
     "name": "stderr",
     "output_type": "stream",
     "text": [
      "c:\\users\\mohanapriya\\anaconda3\\envs\\jbook\\lib\\site-packages\\IPython\\core\\interactiveshell.py:3426: UserWarning: To exit: use 'exit', 'quit', or Ctrl-D.\n",
      "  warn(\"To exit: use 'exit', 'quit', or Ctrl-D.\", stacklevel=1)\n"
     ]
    }
   ],
   "source": [
    "import re\n",
    "import argparse\n",
    "\n",
    "def Main():\n",
    "    parser=argparse.ArgumentParser()\n",
    "    parser.add_argument('word',help=\"specif word to search for\")\n",
    "    parser.add_argument('fname',help=\"specify file to search\")\n",
    "    args=parser.parse_args()\n",
    "    searchfile=open(args.fname)\n",
    "    linenum=0\n",
    " \n",
    "    for line in searchfile.readlines():\n",
    "        line=line.strip('\\n\\r')\n",
    "        linenum+=1\n",
    "        searchresult=re.search(args.word,line,re.M|re.I)\n",
    "        if searchresult:\n",
    "            print(str(linenum)+':'+line)\n",
    "\n",
    "if __name__=='__main__':\n",
    "    Main()\n",
    " \n"
   ]
  },
  {
   "cell_type": "markdown",
   "metadata": {},
   "source": [
    "![](images/regout.png)\n",
    "\n",
    "## Color flags\n",
    "\n",
    "![](images/falg.png)\n",
    "\n",
    "### Verify password pattern\n",
    "Password has lowercase, digit, special character and upper case"
   ]
  },
  {
   "cell_type": "code",
   "execution_count": 7,
   "metadata": {},
   "outputs": [
    {
     "name": "stdout",
     "output_type": "stream",
     "text": [
      "it is password\n"
     ]
    }
   ],
   "source": [
    "import re\n",
    "password=\"anaAya@2013\"\n",
    "if re.match(r\"^(?=.*[\\d])(?=.*[A-Z])(?=.*[a-z])(?=.*[@#$])[\\w\\d@#$]{6,12}$\",password):\n",
    "    print(\"it is password\")\n",
    "else:\n",
    "    print(\"not an password\")\n",
    "\n",
    "\n",
    "\n"
   ]
  },
  {
   "cell_type": "code",
   "execution_count": null,
   "metadata": {},
   "outputs": [],
   "source": []
  }
 ],
 "metadata": {
  "kernelspec": {
   "display_name": "Python 3",
   "language": "python",
   "name": "python3"
  },
  "language_info": {
   "codemirror_mode": {
    "name": "ipython",
    "version": 3
   },
   "file_extension": ".py",
   "mimetype": "text/x-python",
   "name": "python",
   "nbconvert_exporter": "python",
   "pygments_lexer": "ipython3",
   "version": "3.7.9"
  }
 },
 "nbformat": 4,
 "nbformat_minor": 4
}