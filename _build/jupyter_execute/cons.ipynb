{
 "cells": [
  {
   "attachments": {},
   "cell_type": "markdown",
   "metadata": {},
   "source": [
    "# Constructor and Destructor\n",
    "\n",
    "![](images/cons.png)\n",
    "\n",
    "* The constructor is implemented using __init__(self) \n",
    "* which you can define parameters that follows the self.\n",
    "* The destructor is defined using __del__(self). \n",
    "* if you comment out the last line ‘del obj’, \n",
    "* the destructor will not be called immediately. \n",
    "* Instead, the Garbage Collector (GC) will take care of the deletion automatically, \n",
    "\n",
    "### Example"
   ]
  },
  {
   "cell_type": "code",
   "execution_count": 1,
   "metadata": {},
   "outputs": [
    {
     "name": "stdout",
     "output_type": "stream",
     "text": [
      "constructor\n",
      "destructor\n"
     ]
    }
   ],
   "source": [
    "class car:\n",
    "    def __init__(self):\n",
    "        print(\"constructor\")\n",
    "    def __del__(self):\n",
    "        print(\"destructor\")\n",
    "if (__name__==\"__main__\"):\n",
    "    c=car()\n",
    "    del c\n",
    "\n"
   ]
  },
  {
   "cell_type": "code",
   "execution_count": null,
   "metadata": {},
   "outputs": [],
   "source": []
  }
 ],
 "metadata": {
  "kernelspec": {
   "display_name": "Python 3",
   "language": "python",
   "name": "python3"
  },
  "language_info": {
   "codemirror_mode": {
    "name": "ipython",
    "version": 3
   },
   "file_extension": ".py",
   "mimetype": "text/x-python",
   "name": "python",
   "nbconvert_exporter": "python",
   "pygments_lexer": "ipython3",
   "version": "3.7.9"
  }
 },
 "nbformat": 4,
 "nbformat_minor": 4
}