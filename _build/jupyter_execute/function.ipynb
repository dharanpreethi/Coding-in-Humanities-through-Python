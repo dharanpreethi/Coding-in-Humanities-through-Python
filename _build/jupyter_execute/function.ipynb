{
 "cells": [
  {
   "cell_type": "markdown",
   "metadata": {},
   "source": [
    "# Functions\n",
    "\n",
    "![](images/fun.jpg)\n",
    "\n",
    "* A function in a programming language is a program fragment that 'knows' how to perform a defined task. \n",
    "* For example a function may be written that finds the average of three supplied numbers. \n",
    "* Once written, this function may be used many times without having to rewrite it over and over.\n",
    "* Functions are \"self contained\" modules of code that accomplish a specific task.\n",
    "* Functions usually \"take in\" data, process it, and \"return\" a result. Once a function is written, it can be used over and over and over again. \n",
    "* Functions can be \"called\" from the inside of other functions."
   ]
  },
  {
   "cell_type": "code",
   "execution_count": null,
   "metadata": {},
   "outputs": [],
   "source": []
  },
  {
   "cell_type": "markdown",
   "metadata": {},
   "source": [
    "\n",
    "```{toctree}\n",
    ":hidden:\n",
    ":titlesonly:\n",
    "\n",
    "\n",
    "usr\n",
    "lambda\n",
    "```\n"
   ]
  }
 ],
 "metadata": {
  "kernelspec": {
   "display_name": "Python 3",
   "language": "python",
   "name": "python3"
  },
  "language_info": {
   "codemirror_mode": {
    "name": "ipython",
    "version": 3
   },
   "file_extension": ".py",
   "mimetype": "text/x-python",
   "name": "python",
   "nbconvert_exporter": "python",
   "pygments_lexer": "ipython3",
   "version": "3.7.9"
  }
 },
 "nbformat": 4,
 "nbformat_minor": 4
}