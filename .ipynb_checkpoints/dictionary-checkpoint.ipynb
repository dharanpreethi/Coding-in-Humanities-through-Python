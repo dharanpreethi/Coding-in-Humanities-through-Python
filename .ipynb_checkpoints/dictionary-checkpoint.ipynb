{
 "cells": [
  {
   "attachments": {},
   "cell_type": "markdown",
   "metadata": {},
   "source": [
    "# Dictionaries\n",
    "![](images/dict.jpg)\n",
    "\n",
    "<li> contain a set of keys, where each key points to a value and \"associative arrays\" Dictionaries use the curly braces ({}) like the set </li>\n",
    "    \n",
    "{\"blue\": 0, \"red\": 1, \"green\": 2}\n",
    "\n",
    "{'green': 2, 'red': 1, 'blue': 0}  \n",
    "\n",
    "Ordering is different from that supplied above.\n",
    "\n",
    "\n",
    "<li>\"blue\" is a key. Its associated value is 0.</li>\n",
    "<li>\"red\" is a key. Its associated value is 1.</li>\n",
    "<li>\"green\" is a key. Its associated value is 2.</li>\n",
    "\n",
    "## create dictionary phoneNumbers"
   ]
  },
  {
   "cell_type": "code",
   "execution_count": 29,
   "metadata": {},
   "outputs": [],
   "source": [
    "phoneNumbers = {}"
   ]
  },
  {
   "cell_type": "markdown",
   "metadata": {},
   "source": [
    "### add entries to phoneNumbers"
   ]
  },
  {
   "cell_type": "code",
   "execution_count": 30,
   "metadata": {},
   "outputs": [],
   "source": [
    "phoneNumbers['Manikarnika'] = 89564875\n",
    "phoneNumbers['Laxmi Bai'] = 98653255\n",
    "phoneNumbers['Gangathar Roa'] = 77885544\n"
   ]
  },
  {
   "cell_type": "markdown",
   "metadata": {},
   "source": [
    "### display contents of phoneNumbers"
   ]
  },
  {
   "cell_type": "code",
   "execution_count": 31,
   "metadata": {},
   "outputs": [
    {
     "data": {
      "text/plain": [
       "{'Manikarnika': 89564875, 'Laxmi Bai': 98653255, 'Gangathar Roa': 77885544}"
      ]
     },
     "execution_count": 31,
     "metadata": {},
     "output_type": "execute_result"
    }
   ],
   "source": [
    "phoneNumbers"
   ]
  },
  {
   "cell_type": "markdown",
   "metadata": {},
   "source": [
    "### delete an item"
   ]
  },
  {
   "cell_type": "code",
   "execution_count": 32,
   "metadata": {},
   "outputs": [
    {
     "data": {
      "text/plain": [
       "{'Laxmi Bai': 98653255, 'Gangathar Roa': 77885544}"
      ]
     },
     "execution_count": 32,
     "metadata": {},
     "output_type": "execute_result"
    }
   ],
   "source": [
    "del phoneNumbers['Manikarnika']\n",
    "phoneNumbers"
   ]
  },
  {
   "cell_type": "markdown",
   "metadata": {},
   "source": [
    "### check wheather an item present or not"
   ]
  },
  {
   "cell_type": "code",
   "execution_count": 33,
   "metadata": {},
   "outputs": [
    {
     "data": {
      "text/plain": [
       "False"
      ]
     },
     "execution_count": 33,
     "metadata": {},
     "output_type": "execute_result"
    }
   ],
   "source": [
    "'George' in phoneNumbers"
   ]
  },
  {
   "cell_type": "code",
   "execution_count": 34,
   "metadata": {},
   "outputs": [
    {
     "data": {
      "text/plain": [
       "True"
      ]
     },
     "execution_count": 34,
     "metadata": {},
     "output_type": "execute_result"
    }
   ],
   "source": [
    "'Laxmi Bai' in phoneNumbers"
   ]
  },
  {
   "cell_type": "markdown",
   "metadata": {},
   "source": [
    "### Retrieve the keys"
   ]
  },
  {
   "cell_type": "code",
   "execution_count": 35,
   "metadata": {},
   "outputs": [
    {
     "data": {
      "text/plain": [
       "['Laxmi Bai', 'Gangathar Roa']"
      ]
     },
     "execution_count": 35,
     "metadata": {},
     "output_type": "execute_result"
    }
   ],
   "source": [
    "[*phoneNumbers]"
   ]
  },
  {
   "cell_type": "code",
   "execution_count": 36,
   "metadata": {},
   "outputs": [
    {
     "data": {
      "text/plain": [
       "dict_keys(['Laxmi Bai', 'Gangathar Roa'])"
      ]
     },
     "execution_count": 36,
     "metadata": {},
     "output_type": "execute_result"
    }
   ],
   "source": [
    "names =  phoneNumbers.keys()\n",
    "names"
   ]
  },
  {
   "cell_type": "markdown",
   "metadata": {},
   "source": [
    "### Retrieve the values"
   ]
  },
  {
   "cell_type": "code",
   "execution_count": 37,
   "metadata": {},
   "outputs": [
    {
     "data": {
      "text/plain": [
       "dict_values([98653255, 77885544])"
      ]
     },
     "execution_count": 37,
     "metadata": {},
     "output_type": "execute_result"
    }
   ],
   "source": [
    "numbers = phoneNumbers.values() \n",
    "numbers"
   ]
  },
  {
   "cell_type": "markdown",
   "metadata": {},
   "source": [
    "## Database using dictionaries\n",
    "The information which we'd like to include is: name, age, address, phone number, hobbies. Add entries to \"friends:\"\n"
   ]
  },
  {
   "cell_type": "code",
   "execution_count": 28,
   "metadata": {},
   "outputs": [
    {
     "name": "stdout",
     "output_type": "stream",
     "text": [
      "Bill's age is 22\n"
     ]
    }
   ],
   "source": [
    "friends = {}\n",
    "\n",
    "friends['Bill']  = [22, 'Black Street', 1234, [None]]\n",
    "friends['Alan']  = [20, 'Brown Street', 2345, ['cycling','stamp collecting']]\n",
    "friends['Tim']   = [19, 'Green Street', 3456, ['parachuting', 'video games','athletics']]\n",
    "friends['Linda'] = [19, 'Brown Street', 4567, ['old movies']]\n",
    "friends['Jenny'] = [21, 'Grey Street',  4567, ['old movies', 'cycling', 'video games', 'genealogy']]\n",
    "\n",
    "#Access the data in the database:\n",
    "print (\"Bill's age is\", friends['Bill'][0])\n"
   ]
  },
  {
   "cell_type": "code",
   "execution_count": null,
   "metadata": {},
   "outputs": [],
   "source": []
  }
 ],
 "metadata": {
  "kernelspec": {
   "display_name": "Python 3",
   "language": "python",
   "name": "python3"
  },
  "language_info": {
   "codemirror_mode": {
    "name": "ipython",
    "version": 3
   },
   "file_extension": ".py",
   "mimetype": "text/x-python",
   "name": "python",
   "nbconvert_exporter": "python",
   "pygments_lexer": "ipython3",
   "version": "3.8.3"
  }
 },
 "nbformat": 4,
 "nbformat_minor": 4
}
