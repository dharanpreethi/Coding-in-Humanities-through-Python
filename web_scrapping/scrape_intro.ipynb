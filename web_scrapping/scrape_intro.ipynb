{
 "cells": [
  {
   "attachments": {},
   "cell_type": "markdown",
   "metadata": {},
   "source": [
    "# Web Scraping\n",
    "\n",
    "## Introduction\n",
    "\n",
    "* Web scraping (web harvesting or web data extraction) \n",
    "\n",
    "* It is a computer software technique of extracting information from websites\n",
    "\n",
    "![](../images/web.jpg)\n",
    "\n",
    "## What will we learn?\n",
    "\n",
    "* Manipulating URLs\n",
    "* Downloading stuff from within python\n",
    "* Automate collection through loops and functions\n"
   ]
  },
  {
   "cell_type": "code",
   "execution_count": null,
   "metadata": {},
   "outputs": [],
   "source": []
  }
 ],
 "metadata": {
  "kernelspec": {
   "display_name": "Python 3",
   "language": "python",
   "name": "python3"
  },
  "language_info": {
   "codemirror_mode": {
    "name": "ipython",
    "version": 3
   },
   "file_extension": ".py",
   "mimetype": "text/x-python",
   "name": "python",
   "nbconvert_exporter": "python",
   "pygments_lexer": "ipython3",
   "version": "3.8.3"
  }
 },
 "nbformat": 4,
 "nbformat_minor": 4
}
