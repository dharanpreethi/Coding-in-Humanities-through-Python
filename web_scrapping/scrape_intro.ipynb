{
 "cells": [
  {
   "cell_type": "markdown",
   "metadata": {},
   "source": [
    "# Web Scraping\n",
    "\n",
    "## Introduction\n",
    "\n",
    "* Web scraping is also known web harvesting and web data extraction \n",
    "\n",
    "* It is a computational approach to retrive the information from a particular website\n",
    "\n",
    "![](../images/web.jpg)\n",
    "\n",
    "## What will we learn?\n",
    "\n",
    "* Accessing and manipulating URLs\n",
    "* Downloading data from websites to python interface to study the specific information\n",
    "* Automatatically collecte through loops and functions\n"
   ]
  },
  {
   "cell_type": "code",
   "execution_count": null,
   "metadata": {},
   "outputs": [],
   "source": []
  }
 ],
 "metadata": {
  "kernelspec": {
   "display_name": "Python 3",
   "language": "python",
   "name": "python3"
  },
  "language_info": {
   "codemirror_mode": {
    "name": "ipython",
    "version": 3
   },
   "file_extension": ".py",
   "mimetype": "text/x-python",
   "name": "python",
   "nbconvert_exporter": "python",
   "pygments_lexer": "ipython3",
   "version": "3.7.0"
  }
 },
 "nbformat": 4,
 "nbformat_minor": 4
}
