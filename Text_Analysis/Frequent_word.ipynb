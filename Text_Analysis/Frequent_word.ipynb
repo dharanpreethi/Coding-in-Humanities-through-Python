{
 "cells": [
  {
   "cell_type": "code",
   "execution_count": null,
   "metadata": {},
   "outputs": [],
   "source": [
    "#!/usr/bin/env python\n",
    "# coding: utf-8"
   ]
  },
  {
   "cell_type": "markdown",
   "metadata": {},
   "source": [
    "# Text Analysis<br>\n",
    "The computational text analysis began in the early 1949s when Father Robert Busa produced concordance for Thomas Aquinasâ€™ works by using computer. Later, it is extended to investigate author attribution, stylistic and linguistic variation. This process augmented after the establishment of the digitisation of printed text, digital publication and digital formation that transform the humanities way of approaching the text.<br>\n",
    "<br>\n",
    "In this lesson, first we are going to learn a simple frequent word analysis and then move to..."
   ]
  },
  {
   "cell_type": "markdown",
   "metadata": {},
   "source": [
    "### Frequent word analysis ###<br>\n",
    "<br>\n",
    "For this analysis, we can download a text file of a...from Gutenberg...I will also explain the same using the HTML link of the novel."
   ]
  },
  {
   "cell_type": "code",
   "execution_count": null,
   "metadata": {},
   "outputs": [],
   "source": [
    "from collections import Counter # import this module for counting the words \n",
    "import pandas as pd\n",
    "import matplotlib as plt\n",
    "import re"
   ]
  },
  {
   "cell_type": "markdown",
   "metadata": {},
   "source": [
    "#### what is stopwords list? ####<br>\n",
    "This might sound familiar to most of you! Removing words like _a_,_an_,_the_ etc.would..."
   ]
  },
  {
   "cell_type": "markdown",
   "metadata": {},
   "source": [
    "Now we access the text (copy the text file and place it in your working directory)"
   ]
  },
  {
   "cell_type": "code",
   "execution_count": null,
   "metadata": {},
   "outputs": [],
   "source": [
    "file = open ('Pamela.txt', encoding = \"UTF-8\") \n",
    "text = file.read()"
   ]
  },
  {
   "cell_type": "markdown",
   "metadata": {},
   "source": [
    "##### Next we need to remove the metadata such as the information related to author, publisher and Project Gutenberg #####"
   ]
  },
  {
   "cell_type": "code",
   "execution_count": null,
   "metadata": {},
   "outputs": [],
   "source": [
    "extract1 = text.find(\"LETTER I\")\n",
    "extract2 = text.find(\"End of Project Gutenberg's Pamela, or Virtue Rewarded, by Samuel Richardson\")\n",
    "analysis_part = text[extract1:extract2]\n",
    "print(analysis_part)"
   ]
  },
  {
   "cell_type": "code",
   "execution_count": null,
   "metadata": {},
   "outputs": [],
   "source": [
    "stopword_list = set(line.strip() for line in open('stopwords_en.txt'))"
   ]
  },
  {
   "cell_type": "code",
   "execution_count": null,
   "metadata": {},
   "outputs": [],
   "source": [
    "Frequent_word = {}"
   ]
  },
  {
   "cell_type": "code",
   "execution_count": null,
   "metadata": {},
   "outputs": [],
   "source": [
    "for words in analysis_part.lower().split():\n",
    "    words = words.replace(\".\",\"\")\n",
    "    words = words.replace(\",\",\"\")\n",
    "    words = words.replace(\":\",\"\")\n",
    "    words = words.replace(\"\\\"\",\"\")\n",
    "    words = words.replace(\"!\",\"\")\n",
    "    words = words.replace(\"Ã¢â‚¬Å“\",\"\")\n",
    "    words = words.replace(\"Ã¢â‚¬Ëœ\",\"\")\n",
    "    words = words.replace(\"*\",\"\")\n",
    "    if words not in stopword_list:\n",
    "        if words not in Frequent_word:\n",
    "            Frequent_word[words] = 1\n",
    "        else:\n",
    "            Frequent_word[words] += 1"
   ]
  },
  {
   "cell_type": "code",
   "execution_count": null,
   "metadata": {},
   "outputs": [],
   "source": [
    "import collections\n",
    "top_words = collections.Counter(Frequent_word)"
   ]
  },
  {
   "cell_type": "code",
   "execution_count": null,
   "metadata": {},
   "outputs": [],
   "source": [
    "no_top_words = int(input(\"How many the most frequent words to print: \"))\n",
    "for count in top_words.most_common(no_top_words):\n",
    "    print(count)\n",
    "lsts = top_words.most_common(no_top_words)\n",
    "df = pd.DataFrame(lsts, columns = ['Word', 'Count'])\n",
    "df.plot.bar(x='Word',y='Count')"
   ]
  }
 ],
 "metadata": {
  "kernelspec": {
   "display_name": "Python 3",
   "language": "python",
   "name": "python3"
  },
  "language_info": {
   "codemirror_mode": {
    "name": "ipython",
    "version": 3
   },
   "file_extension": ".py",
   "mimetype": "text/x-python",
   "name": "python",
   "nbconvert_exporter": "python",
   "pygments_lexer": "ipython3",
   "version": "3.7.0"
  }
 },
 "nbformat": 4,
 "nbformat_minor": 2
}
